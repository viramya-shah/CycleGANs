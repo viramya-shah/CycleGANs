{
 "cells": [
  {
   "cell_type": "code",
   "execution_count": 27,
   "metadata": {},
   "outputs": [],
   "source": [
    "import numpy as np\n",
    "import pandas as pd\n",
    "import matplotlib.pyplot as plt\n",
    "\n",
    "import glob, os, warnings\n",
    "\n",
    "import cv2\n",
    "\n",
    "warnings.filterwarnings('ignore')"
   ]
  },
  {
   "cell_type": "code",
   "execution_count": 28,
   "metadata": {},
   "outputs": [],
   "source": [
    "height, width, channel = 64, 64, 3\n",
    "img_data = []\n",
    "for i in range(0, 255, 10):\n",
    "    temp = np.zeros(shape = (height, width, channel), dtype = int)\n",
    "    temp[:, :] = (i, 0, 0)\n",
    "    img_data.append(temp)\n",
    "    \n",
    "    temp = np.zeros(shape = (height, width, channel), dtype = int)\n",
    "    temp[:, :] = (0, i, 0)\n",
    "    img_data.append(temp)\n",
    "    \n",
    "    temp = np.zeros(shape = (height, width, channel), dtype = int)\n",
    "    temp[:, :] = (0, 0, i)\n",
    "    img_data.append(temp)"
   ]
  },
  {
   "cell_type": "code",
   "execution_count": 29,
   "metadata": {},
   "outputs": [],
   "source": [
    "img_data = np.array(img_data)"
   ]
  },
  {
   "cell_type": "code",
   "execution_count": 30,
   "metadata": {},
   "outputs": [],
   "source": [
    "file_path_to_store = \"../images//\"\n",
    "\n",
    "if not os.path.isdir(file_path_to_store):\n",
    "    os.mkdir(file_path_to_store)\n",
    "    \n",
    "for idx, file in enumerate(img_data):\n",
    "    cv2.imwrite(\"{}{}.png\".format(file_path_to_store, str(idx)), file)"
   ]
  },
  {
   "cell_type": "markdown",
   "metadata": {},
   "source": [
    "Making checker board"
   ]
  },
  {
   "cell_type": "code",
   "execution_count": 38,
   "metadata": {},
   "outputs": [
    {
     "name": "stderr",
     "output_type": "stream",
     "text": [
      "Clipping input data to the valid range for imshow with RGB data ([0..1] for floats or [0..255] for integers).\n"
     ]
    },
    {
     "data": {
      "text/plain": [
       "<matplotlib.image.AxesImage at 0x1e00e684128>"
      ]
     },
     "execution_count": 38,
     "metadata": {},
     "output_type": "execute_result"
    },
    {
     "data": {
      "image/png": "[encoded data removed]",
      "text/plain": [
       "<Figure size 432x288 with 1 Axes>"
      ]
     },
     "metadata": {
      "needs_background": "light"
     },
     "output_type": "display_data"
    }
   ],
   "source": [
    "checker_board = np.zeros(shape = (64, 64, 3))\n",
    "\n",
    "for i in range(0, len(checker_board), 8):\n",
    "    if i % 16 == 0:\n",
    "        j = 8\n",
    "    else:\n",
    "        j = 0\n",
    "    while(j < len(checker_board[i])):\n",
    "        checker_board[i:i+8, j:j+8] = (255, 255, 255)\n",
    "        j += 16\n",
    "\n",
    "plt.imshow(checker_board)"
   ]
  },
  {
   "cell_type": "code",
   "execution_count": 43,
   "metadata": {},
   "outputs": [
    {
     "name": "stderr",
     "output_type": "stream",
     "text": [
      "Clipping input data to the valid range for imshow with RGB data ([0..1] for floats or [0..255] for integers).\n"
     ]
    },
    {
     "data": {
      "text/plain": [
       "<matplotlib.image.AxesImage at 0x1e014ab9860>"
      ]
     },
     "execution_count": 43,
     "metadata": {},
     "output_type": "execute_result"
    },
    {
     "data": {
      "image/png": "[encoded data removed]",
      "text/plain": [
       "<Figure size 432x288 with 1 Axes>"
      ]
     },
     "metadata": {
      "needs_background": "light"
     },
     "output_type": "display_data"
    }
   ],
   "source": [
    "plt.imshow(cv2.flip(checker_board, 0))"
   ]
  },
  {
   "cell_type": "code",
   "execution_count": 55,
   "metadata": {},
   "outputs": [
    {
     "data": {
      "text/plain": [
       "True"
      ]
     },
     "execution_count": 55,
     "metadata": {},
     "output_type": "execute_result"
    }
   ],
   "source": [
    "cv2.imwrite(\"{}{}.png\".format(file_path_to_store, \"check1\"), checker_board)"
   ]
  },
  {
   "cell_type": "code",
   "execution_count": 56,
   "metadata": {},
   "outputs": [
    {
     "data": {
      "text/plain": [
       "True"
      ]
     },
     "execution_count": 56,
     "metadata": {},
     "output_type": "execute_result"
    }
   ],
   "source": [
    "cv2.imwrite(\"{}{}.png\".format(file_path_to_store, \"check2\"), cv2.flip(checker_board, 0))"
   ]
  }
 ],
 "metadata": {
  "kernelspec": {
   "display_name": "Python 3",
   "language": "python",
   "name": "python3"
  },
  "language_info": {
   "codemirror_mode": {
    "name": "ipython",
    "version": 3
   },
   "file_extension": ".py",
   "mimetype": "text/x-python",
   "name": "python",
   "nbconvert_exporter": "python",
   "pygments_lexer": "ipython3",
   "version": "3.7.3"
  }
 },
 "nbformat": 4,
 "nbformat_minor": 2
}
